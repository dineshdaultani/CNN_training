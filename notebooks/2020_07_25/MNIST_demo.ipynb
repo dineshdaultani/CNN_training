{
  "nbformat": 4,
  "nbformat_minor": 0,
  "metadata": {
    "kernelspec": {
      "display_name": "Python 3",
      "language": "python",
      "name": "python3"
    },
    "language_info": {
      "codemirror_mode": {
        "name": "ipython",
        "version": 3
      },
      "file_extension": ".py",
      "mimetype": "text/x-python",
      "name": "python",
      "nbconvert_exporter": "python",
      "pygments_lexer": "ipython3",
      "version": "3.6.7"
    },
    "colab": {
      "name": "MNIST demo.ipynb",
      "provenance": [],
      "collapsed_sections": [],
      "include_colab_link": true
    },
    "accelerator": "GPU"
  },
  "cells": [
    {
      "cell_type": "markdown",
      "metadata": {
        "id": "view-in-github",
        "colab_type": "text"
      },
      "source": [
        "<a href=\"https://colab.research.google.com/github/dineshdaultani/CNN_training/blob/master/notebooks/2020_07_25/MNIST_demo.ipynb\" target=\"_parent\"><img src=\"https://colab.research.google.com/assets/colab-badge.svg\" alt=\"Open In Colab\"/></a>"
      ]
    },
    {
      "cell_type": "markdown",
      "metadata": {
        "id": "pe_8aJLOFM2p",
        "colab_type": "text"
      },
      "source": [
        "### This notebook is a tutorial for how to train a CNN model on MNIST dataset. MNIST contains pictures of handwritten digits. \n",
        "\n",
        "### References:\n",
        "Code: https://keras.io/examples/mnist_cnn/  \n",
        "MNIST: http://yann.lecun.com/exdb/mnist/  "
      ]
    },
    {
      "cell_type": "markdown",
      "metadata": {
        "id": "UckORy8mWxTl",
        "colab_type": "text"
      },
      "source": [
        "### Let's start with importing relevant libraries"
      ]
    },
    {
      "cell_type": "code",
      "metadata": {
        "id": "P4n0Km9bFLzD",
        "colab_type": "code",
        "colab": {
          "base_uri": "https://localhost:8080/",
          "height": 34
        },
        "outputId": "998de30d-ce0d-495e-e19b-465ebcaf9b96"
      },
      "source": [
        "from __future__ import print_function\n",
        "import keras\n",
        "from keras.datasets import mnist\n",
        "from keras.models import Sequential\n",
        "from keras.layers import Dense, Dropout, Flatten\n",
        "from keras.layers import Conv2D, MaxPooling2D\n",
        "from keras import backend as K"
      ],
      "execution_count": 1,
      "outputs": [
        {
          "output_type": "stream",
          "text": [
            "Using TensorFlow backend.\n"
          ],
          "name": "stderr"
        }
      ]
    },
    {
      "cell_type": "code",
      "metadata": {
        "id": "h_8G01IbPFSt",
        "colab_type": "code",
        "colab": {}
      },
      "source": [
        "import numpy as np\n",
        "from matplotlib import pyplot as plt"
      ],
      "execution_count": 0,
      "outputs": []
    },
    {
      "cell_type": "markdown",
      "metadata": {
        "id": "QzWRZzu0W3O5",
        "colab_type": "text"
      },
      "source": [
        "### **Load the MNIST dataset** from inbuilt keras function"
      ]
    },
    {
      "cell_type": "code",
      "metadata": {
        "id": "fXaVDs3zW_Az",
        "colab_type": "code",
        "colab": {
          "base_uri": "https://localhost:8080/",
          "height": 68
        },
        "outputId": "c5f1c104-cb76-44d9-ffda-75b64e9d57f5"
      },
      "source": [
        "# the data, split between train and test sets\n",
        "(x_train, y_train), (x_test, y_test) = mnist.load_data()\n",
        "print('x_train shape:', x_train.shape)\n",
        "print(x_train.shape[0], 'train samples')\n",
        "print(x_test.shape[0], 'test samples')"
      ],
      "execution_count": 3,
      "outputs": [
        {
          "output_type": "stream",
          "text": [
            "x_train shape: (60000, 28, 28)\n",
            "60000 train samples\n",
            "10000 test samples\n"
          ],
          "name": "stdout"
        }
      ]
    },
    {
      "cell_type": "markdown",
      "metadata": {
        "id": "2CzquW9NXVIt",
        "colab_type": "text"
      },
      "source": [
        "### We will initialize some parameters that we would be using later"
      ]
    },
    {
      "cell_type": "code",
      "metadata": {
        "id": "phSis5nRH3JV",
        "colab_type": "code",
        "colab": {}
      },
      "source": [
        "batch_size = 128\n",
        "num_classes = 10\n",
        "epochs = 5\n",
        "img_rows, img_cols = 28, 28"
      ],
      "execution_count": 0,
      "outputs": []
    },
    {
      "cell_type": "code",
      "metadata": {
        "id": "Quy74gVaIAjm",
        "colab_type": "code",
        "colab": {}
      },
      "source": [
        "if K.image_data_format() == 'channels_first':\n",
        "    x_train = x_train.reshape(x_train.shape[0], 1, img_rows, img_cols)\n",
        "    x_test = x_test.reshape(x_test.shape[0], 1, img_rows, img_cols)\n",
        "    input_shape = (1, img_rows, img_cols)\n",
        "else:\n",
        "    x_train = x_train.reshape(x_train.shape[0], img_rows, img_cols, 1)\n",
        "    x_test = x_test.reshape(x_test.shape[0], img_rows, img_cols, 1)\n",
        "    input_shape = (img_rows, img_cols, 1)"
      ],
      "execution_count": 0,
      "outputs": []
    },
    {
      "cell_type": "markdown",
      "metadata": {
        "id": "E9cvZjzkXeky",
        "colab_type": "text"
      },
      "source": [
        "### **Preprocessing the images**\n",
        "* Format the training and testing images data to float32. \n",
        "* Next we will **normalize** each pixel by dividing 255. Now each pixel will be in range [0, 1]"
      ]
    },
    {
      "cell_type": "code",
      "metadata": {
        "id": "6RAxB0lNIBL8",
        "colab_type": "code",
        "colab": {}
      },
      "source": [
        "x_train = x_train.astype('float32')\n",
        "x_test = x_test.astype('float32')\n",
        "x_train /= 255\n",
        "x_test /= 255"
      ],
      "execution_count": 0,
      "outputs": []
    },
    {
      "cell_type": "markdown",
      "metadata": {
        "id": "J68Z-O-yYCsA",
        "colab_type": "text"
      },
      "source": [
        "### **Preprocessing the labels**\n",
        "* We will use inbuilt [to_categorical](https://www.tensorflow.org/api_docs/python/tf/keras/utils/to_categorical) function to convert labels to one-hot encoding vector \n",
        "\n"
      ]
    },
    {
      "cell_type": "code",
      "metadata": {
        "id": "A1Iw8xADIiAs",
        "colab_type": "code",
        "colab": {}
      },
      "source": [
        "# convert class vectors to binary class matrices\n",
        "y_train = keras.utils.to_categorical(y_train, num_classes)\n",
        "y_test = keras.utils.to_categorical(y_test, num_classes)"
      ],
      "execution_count": 0,
      "outputs": []
    },
    {
      "cell_type": "markdown",
      "metadata": {
        "id": "0f7RYTZ8QXoy",
        "colab_type": "text"
      },
      "source": [
        "### **Designing the model**\n",
        "Let's create a [sequential](https://keras.io/api/models/sequential/) model in keras. Architecture of our model is going to look like as follows:\n",
        "\n",
        "1. [**Conv2D layer**](https://keras.io/api/layers/convolution_layers/convolution2d/)\n",
        "  * With 32 filters and kernel size (3,3) and relu activation\n",
        "2. **Conv2D layer**\n",
        "  * With 64 filters and kernel size (3,3) and relu activation\n",
        "3. [**MaxPooling2D layer**](https://keras.io/api/layers/pooling_layers/max_pooling2d/)\n",
        "  * With pool_size (2,2)\n",
        "4. [**Flatten** ](https://www.tensorflow.org/api_docs/python/tf/keras/layers/Flatten)\n",
        "5. [**Dense**](https://keras.io/api/layers/core_layers/dense/) with 128 neurons and relu activation\n",
        "6. [**Dropout**](https://www.tensorflow.org/api_docs/python/tf/keras/layers/Dropout) (optional)\n",
        "7. Last **Dense** layer with **softmax** activations.\n"
      ]
    },
    {
      "cell_type": "code",
      "metadata": {
        "id": "z1FAlSSAIBTv",
        "colab_type": "code",
        "colab": {}
      },
      "source": [
        "model = Sequential()\n",
        "model.add(Conv2D(32, kernel_size=(3, 3),\n",
        "                 activation='relu',\n",
        "                 input_shape=input_shape))\n",
        "model.add(Conv2D(64, (3, 3), activation='relu'))\n",
        "model.add(MaxPooling2D(pool_size=(2, 2)))\n",
        "model.add(Dropout(0.25))\n",
        "model.add(Flatten())\n",
        "model.add(Dense(128, activation='relu'))\n",
        "model.add(Dropout(0.5))\n",
        "model.add(Dense(num_classes, activation='softmax'))"
      ],
      "execution_count": 0,
      "outputs": []
    },
    {
      "cell_type": "markdown",
      "metadata": {
        "id": "9SsPw0qmZBe9",
        "colab_type": "text"
      },
      "source": [
        "### We will **compile** our model by defining loss, optimizer and metrics that we will use to train our network.\n",
        "* loss: [categorical_crossentropy](https://keras.io/api/losses/probabilistic_losses/#categoricalcrossentropy-function)\n",
        "* optimizer: [Adadelta](https://keras.io/api/optimizers/adadelta/)\n",
        "* metrics: [accuracy](https://keras.io/api/metrics/accuracy_metrics/#accuracy-class)"
      ]
    },
    {
      "cell_type": "code",
      "metadata": {
        "id": "Wolqag-DIBYN",
        "colab_type": "code",
        "colab": {}
      },
      "source": [
        "model.compile(loss=keras.losses.categorical_crossentropy,\n",
        "              optimizer=keras.optimizers.Adadelta(),\n",
        "              metrics=['accuracy'])"
      ],
      "execution_count": 0,
      "outputs": []
    },
    {
      "cell_type": "markdown",
      "metadata": {
        "id": "UT8QUOzeaM9g",
        "colab_type": "text"
      },
      "source": [
        "### Now, let's **train our model** by using the parameters that we defined before."
      ]
    },
    {
      "cell_type": "code",
      "metadata": {
        "id": "7pYF0BnzIa-n",
        "colab_type": "code",
        "colab": {
          "base_uri": "https://localhost:8080/",
          "height": 221
        },
        "outputId": "ce415dd7-2594-4029-f590-c3a0130288b3"
      },
      "source": [
        "model.fit(x_train, y_train,\n",
        "          batch_size=batch_size,\n",
        "          epochs=epochs,\n",
        "          verbose=1,\n",
        "          validation_data=(x_test, y_test))"
      ],
      "execution_count": 10,
      "outputs": [
        {
          "output_type": "stream",
          "text": [
            "Train on 60000 samples, validate on 10000 samples\n",
            "Epoch 1/5\n",
            "60000/60000 [==============================] - 10s 168us/step - loss: 0.2521 - accuracy: 0.9229 - val_loss: 0.0581 - val_accuracy: 0.9818\n",
            "Epoch 2/5\n",
            "60000/60000 [==============================] - 8s 142us/step - loss: 0.0842 - accuracy: 0.9745 - val_loss: 0.0444 - val_accuracy: 0.9851\n",
            "Epoch 3/5\n",
            "60000/60000 [==============================] - 9s 142us/step - loss: 0.0628 - accuracy: 0.9808 - val_loss: 0.0362 - val_accuracy: 0.9876\n",
            "Epoch 4/5\n",
            "60000/60000 [==============================] - 9s 143us/step - loss: 0.0544 - accuracy: 0.9837 - val_loss: 0.0332 - val_accuracy: 0.9884\n",
            "Epoch 5/5\n",
            "60000/60000 [==============================] - 9s 142us/step - loss: 0.0435 - accuracy: 0.9865 - val_loss: 0.0280 - val_accuracy: 0.9906\n"
          ],
          "name": "stdout"
        },
        {
          "output_type": "execute_result",
          "data": {
            "text/plain": [
              "<keras.callbacks.callbacks.History at 0x7f10a0692898>"
            ]
          },
          "metadata": {
            "tags": []
          },
          "execution_count": 10
        }
      ]
    },
    {
      "cell_type": "markdown",
      "metadata": {
        "id": "YhKxXp71aYk6",
        "colab_type": "text"
      },
      "source": [
        "### **Evaluation** of the trained model on validation data"
      ]
    },
    {
      "cell_type": "code",
      "metadata": {
        "id": "XTdR1x4-IbXI",
        "colab_type": "code",
        "colab": {
          "base_uri": "https://localhost:8080/",
          "height": 51
        },
        "outputId": "e76cb3c0-f096-40da-c1d7-2f263c996cda"
      },
      "source": [
        "score = model.evaluate(x_test, y_test, verbose=0)\n",
        "print('Test loss:', score[0])\n",
        "print('Test accuracy:', score[1])"
      ],
      "execution_count": 11,
      "outputs": [
        {
          "output_type": "stream",
          "text": [
            "Test loss: 0.027999724970491663\n",
            "Test accuracy: 0.9905999898910522\n"
          ],
          "name": "stdout"
        }
      ]
    },
    {
      "cell_type": "markdown",
      "metadata": {
        "id": "k1rAqQMCasTL",
        "colab_type": "text"
      },
      "source": [
        "### We can **visualize or analyze our model** to see how our predictions looks like. "
      ]
    },
    {
      "cell_type": "code",
      "metadata": {
        "id": "KUG4_UFpNCru",
        "colab_type": "code",
        "colab": {}
      },
      "source": [
        "y_pred = model.predict(x_test)"
      ],
      "execution_count": 0,
      "outputs": []
    },
    {
      "cell_type": "code",
      "metadata": {
        "id": "DSZyeiwWOCeC",
        "colab_type": "code",
        "colab": {}
      },
      "source": [
        "y_pred_labels = np.argmax(y_pred, axis = 1)\n",
        "y_test_labels = np.argmax(y_test, axis = 1)"
      ],
      "execution_count": 0,
      "outputs": []
    },
    {
      "cell_type": "code",
      "metadata": {
        "id": "3AwLBc8FLvQg",
        "colab_type": "code",
        "colab": {
          "base_uri": "https://localhost:8080/",
          "height": 316
        },
        "outputId": "e075b979-141d-4950-defd-fb24934d3665"
      },
      "source": [
        "nth_img = 1001\n",
        "print('actual_label: '  + str(y_test_labels[nth_img]))\n",
        "print('predicted_label: '  + str(y_pred_labels[nth_img]))\n",
        "plt.imshow(x_test[nth_img].reshape((28, 28)))"
      ],
      "execution_count": 14,
      "outputs": [
        {
          "output_type": "stream",
          "text": [
            "actual_label: 0\n",
            "predicted_label: 0\n"
          ],
          "name": "stdout"
        },
        {
          "output_type": "execute_result",
          "data": {
            "text/plain": [
              "<matplotlib.image.AxesImage at 0x7f10a04d37b8>"
            ]
          },
          "metadata": {
            "tags": []
          },
          "execution_count": 14
        },
        {
          "output_type": "display_data",
          "data": {
            "image/png": "[encoded data removed]",
            "text/plain": [
              "<Figure size 432x288 with 1 Axes>"
            ]
          },
          "metadata": {
            "tags": [],
            "needs_background": "light"
          }
        }
      ]
    },
    {
      "cell_type": "markdown",
      "metadata": {
        "id": "SBPnWEZFP14F",
        "colab_type": "text"
      },
      "source": [
        "### How about we **visualize images that our model predicted incorrectly**.  \n",
        "*   First we have to get the indexes of the images where y_pred and y_test doesn't match\n",
        "*   Then we can visualize them one by one\n",
        "\n"
      ]
    },
    {
      "cell_type": "code",
      "metadata": {
        "id": "BFK8YVnMQTLf",
        "colab_type": "code",
        "colab": {
          "base_uri": "https://localhost:8080/",
          "height": 170
        },
        "outputId": "a058463a-7b3b-4ae9-bc56-e20ff1c29071"
      },
      "source": [
        "np.where(y_pred_labels != y_test_labels)"
      ],
      "execution_count": 15,
      "outputs": [
        {
          "output_type": "execute_result",
          "data": {
            "text/plain": [
              "(array([ 247,  259,  321,  340,  445,  449,  582,  740,  844,  938,  947,\n",
              "        1014, 1039, 1112, 1226, 1232, 1242, 1247, 1260, 1319, 1414, 1522,\n",
              "        1530, 1549, 1621, 1681, 1709, 1717, 1901, 2035, 2040, 2043, 2070,\n",
              "        2118, 2130, 2135, 2293, 2406, 2454, 2462, 2597, 2654, 2896, 2921,\n",
              "        2927, 2939, 3030, 3060, 3289, 3422, 3520, 3534, 3558, 3726, 3749,\n",
              "        3767, 3796, 3808, 3941, 4007, 4163, 4176, 4248, 4256, 4536, 4571,\n",
              "        4639, 4731, 4740, 4761, 4807, 4814, 4823, 4860, 5937, 5955, 6091,\n",
              "        6505, 6555, 6597, 6625, 6651, 6755, 8408, 8527, 9009, 9015, 9019,\n",
              "        9642, 9664, 9692, 9729, 9770, 9982]),)"
            ]
          },
          "metadata": {
            "tags": []
          },
          "execution_count": 15
        }
      ]
    },
    {
      "cell_type": "code",
      "metadata": {
        "id": "-oJ2q84WPytr",
        "colab_type": "code",
        "colab": {
          "base_uri": "https://localhost:8080/",
          "height": 316
        },
        "outputId": "b2ac5c25-2357-4885-bbca-0cc48d61fc96"
      },
      "source": [
        "nth_img = 321\n",
        "print('actual_label: '  + str(y_test_labels[nth_img]))\n",
        "print('predicted_label: '  + str(y_pred_labels[nth_img]))\n",
        "plt.imshow(x_test[nth_img].reshape((28, 28)))"
      ],
      "execution_count": 16,
      "outputs": [
        {
          "output_type": "stream",
          "text": [
            "actual_label: 2\n",
            "predicted_label: 7\n"
          ],
          "name": "stdout"
        },
        {
          "output_type": "execute_result",
          "data": {
            "text/plain": [
              "<matplotlib.image.AxesImage at 0x7f10560a6da0>"
            ]
          },
          "metadata": {
            "tags": []
          },
          "execution_count": 16
        },
        {
          "output_type": "display_data",
          "data": {
            "image/png": "[encoded data removed]",
            "text/plain": [
              "<Figure size 432x288 with 1 Axes>"
            ]
          },
          "metadata": {
            "tags": [],
            "needs_background": "light"
          }
        }
      ]
    },
    {
      "cell_type": "markdown",
      "metadata": {
        "id": "umFfvrJ3NY7B",
        "colab_type": "text"
      },
      "source": [
        "***Want to try something more on other small datasets?***\n",
        "*   https://keras.io/api/datasets/  (Contains **CIFAR** and **Fashion MNIST** dataset)\n",
        "\n",
        "\n",
        "\n"
      ]
    }
  ]
}