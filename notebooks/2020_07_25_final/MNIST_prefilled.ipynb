{
  "nbformat": 4,
  "nbformat_minor": 0,
  "metadata": {
    "kernelspec": {
      "display_name": "Python 3",
      "language": "python",
      "name": "python3"
    },
    "language_info": {
      "codemirror_mode": {
        "name": "ipython",
        "version": 3
      },
      "file_extension": ".py",
      "mimetype": "text/x-python",
      "name": "python",
      "nbconvert_exporter": "python",
      "pygments_lexer": "ipython3",
      "version": "3.6.7"
    },
    "colab": {
      "name": "MNIST_prefilled.ipynb",
      "provenance": [],
      "collapsed_sections": [],
      "include_colab_link": true
    },
    "accelerator": "GPU"
  },
  "cells": [
    {
      "cell_type": "markdown",
      "metadata": {
        "id": "view-in-github",
        "colab_type": "text"
      },
      "source": [
        "<a href=\"https://colab.research.google.com/github/dineshdaultani/CNN_training/blob/master/notebooks/2020_07_25_final/MNIST_prefilled.ipynb\" target=\"_parent\"><img src=\"https://colab.research.google.com/assets/colab-badge.svg\" alt=\"Open In Colab\"/></a>"
      ]
    },
    {
      "cell_type": "markdown",
      "metadata": {
        "id": "pe_8aJLOFM2p",
        "colab_type": "text"
      },
      "source": [
        "### This notebook is a tutorial for how to train a CNN model on MNIST dataset.  \n",
        "### MNIST contains pictures of handwritten digits. \n",
        "\n",
        "### References:\n",
        "Code: https://keras.io/examples/mnist_cnn/  \n",
        "MNIST: http://yann.lecun.com/exdb/mnist/  "
      ]
    },
    {
      "cell_type": "markdown",
      "metadata": {
        "id": "UckORy8mWxTl",
        "colab_type": "text"
      },
      "source": [
        "### Let's start with importing relevant libraries"
      ]
    },
    {
      "cell_type": "code",
      "metadata": {
        "id": "P4n0Km9bFLzD",
        "colab_type": "code",
        "colab": {
          "base_uri": "https://localhost:8080/",
          "height": 34
        },
        "outputId": "c39ff0a2-1221-4407-ec93-0dd6a1b4c365"
      },
      "source": [
        "from __future__ import print_function\n",
        "import keras\n",
        "from keras.datasets import mnist\n",
        "from keras.models import Sequential\n",
        "from keras.layers import Dense, Dropout, Flatten\n",
        "from keras.layers import Conv2D, MaxPooling2D\n",
        "from keras import backend as K"
      ],
      "execution_count": null,
      "outputs": [
        {
          "output_type": "stream",
          "text": [
            "Using TensorFlow backend.\n"
          ],
          "name": "stderr"
        }
      ]
    },
    {
      "cell_type": "code",
      "metadata": {
        "id": "h_8G01IbPFSt",
        "colab_type": "code",
        "colab": {}
      },
      "source": [
        "import numpy as np\n",
        "from matplotlib import pyplot as plt"
      ],
      "execution_count": null,
      "outputs": []
    },
    {
      "cell_type": "markdown",
      "metadata": {
        "id": "QzWRZzu0W3O5",
        "colab_type": "text"
      },
      "source": [
        "### **Load the MNIST dataset** from inbuilt keras function"
      ]
    },
    {
      "cell_type": "code",
      "metadata": {
        "id": "fXaVDs3zW_Az",
        "colab_type": "code",
        "colab": {
          "base_uri": "https://localhost:8080/",
          "height": 68
        },
        "outputId": "d5651058-ff32-47a6-e103-34467f7a7fe9"
      },
      "source": [
        "# the data, split between train and test sets\n",
        "(x_train, y_train), (x_test, y_test) = mnist.load_data()\n",
        "print('x_train shape:', x_train.shape)\n",
        "print(x_train.shape[0], 'train samples')\n",
        "print(x_test.shape[0], 'test samples')"
      ],
      "execution_count": null,
      "outputs": [
        {
          "output_type": "stream",
          "text": [
            "x_train shape: (60000, 28, 28)\n",
            "60000 train samples\n",
            "10000 test samples\n"
          ],
          "name": "stdout"
        }
      ]
    },
    {
      "cell_type": "markdown",
      "metadata": {
        "id": "F8RldXndWych",
        "colab_type": "text"
      },
      "source": [
        "### **Visualize data**"
      ]
    },
    {
      "cell_type": "code",
      "metadata": {
        "id": "FZwnmcDOWuOM",
        "colab_type": "code",
        "colab": {
          "base_uri": "https://localhost:8080/",
          "height": 299
        },
        "outputId": "c7ce6c7d-8c08-4cc4-ab7e-d3b098a744f0"
      },
      "source": [
        "nth_img = 0\n",
        "print('label: ' + str(y_train[nth_img]))\n",
        "plt.imshow(x_train[nth_img].reshape((28, 28)))"
      ],
      "execution_count": null,
      "outputs": [
        {
          "output_type": "stream",
          "text": [
            "label: 5\n"
          ],
          "name": "stdout"
        },
        {
          "output_type": "execute_result",
          "data": {
            "text/plain": [
              "<matplotlib.image.AxesImage at 0x7f3094aa40b8>"
            ]
          },
          "metadata": {
            "tags": []
          },
          "execution_count": 4
        },
        {
          "output_type": "display_data",
          "data": {
            "image/png": "[encoded data removed]",
            "text/plain": [
              "<Figure size 432x288 with 1 Axes>"
            ]
          },
          "metadata": {
            "tags": [],
            "needs_background": "light"
          }
        }
      ]
    },
    {
      "cell_type": "markdown",
      "metadata": {
        "id": "2CzquW9NXVIt",
        "colab_type": "text"
      },
      "source": [
        "### We will initialize some parameters that we would be using later"
      ]
    },
    {
      "cell_type": "code",
      "metadata": {
        "id": "phSis5nRH3JV",
        "colab_type": "code",
        "colab": {}
      },
      "source": [
        "batch_size = 128\n",
        "num_classes = 10\n",
        "epochs = 5\n",
        "img_rows, img_cols = 28, 28"
      ],
      "execution_count": null,
      "outputs": []
    },
    {
      "cell_type": "code",
      "metadata": {
        "id": "Quy74gVaIAjm",
        "colab_type": "code",
        "colab": {}
      },
      "source": [
        "if K.image_data_format() == 'channels_first':\n",
        "    x_train = x_train.reshape(x_train.shape[0], 1, img_rows, img_cols)\n",
        "    x_test = x_test.reshape(x_test.shape[0], 1, img_rows, img_cols)\n",
        "    input_shape = (1, img_rows, img_cols)\n",
        "else:\n",
        "    x_train = x_train.reshape(x_train.shape[0], img_rows, img_cols, 1)\n",
        "    x_test = x_test.reshape(x_test.shape[0], img_rows, img_cols, 1)\n",
        "    input_shape = (img_rows, img_cols, 1)"
      ],
      "execution_count": null,
      "outputs": []
    },
    {
      "cell_type": "markdown",
      "metadata": {
        "id": "E9cvZjzkXeky",
        "colab_type": "text"
      },
      "source": [
        "### **Preprocessing the images**\n",
        "* Format the training and testing images data to float32. \n",
        "* Next we will **normalize** each pixel by dividing 255. Now each pixel will be in range [0, 1]"
      ]
    },
    {
      "cell_type": "code",
      "metadata": {
        "id": "6RAxB0lNIBL8",
        "colab_type": "code",
        "colab": {}
      },
      "source": [
        "x_train = x_train.astype('float32')\n",
        "x_test = x_test.astype('float32')\n",
        "x_train /= 255\n",
        "x_test /= 255"
      ],
      "execution_count": null,
      "outputs": []
    },
    {
      "cell_type": "markdown",
      "metadata": {
        "id": "J68Z-O-yYCsA",
        "colab_type": "text"
      },
      "source": [
        "### **Preprocessing the labels**\n",
        "* We will use inbuilt [to_categorical](https://www.tensorflow.org/api_docs/python/tf/keras/utils/to_categorical) function to convert labels to one-hot encoding vector \n",
        "\n"
      ]
    },
    {
      "cell_type": "code",
      "metadata": {
        "id": "A1Iw8xADIiAs",
        "colab_type": "code",
        "colab": {}
      },
      "source": [
        "# convert class vectors to binary class matrices\n",
        "y_train = keras.utils.to_categorical(y_train, num_classes)\n",
        "y_test = keras.utils.to_categorical(y_test, num_classes)"
      ],
      "execution_count": null,
      "outputs": []
    },
    {
      "cell_type": "markdown",
      "metadata": {
        "id": "0f7RYTZ8QXoy",
        "colab_type": "text"
      },
      "source": [
        "### **Designing the model**\n",
        "Let's create a [sequential](https://keras.io/api/models/sequential/) model in keras. Architecture of our model is going to look like as follows:\n",
        "\n",
        "1. [**Conv2D layer**](https://keras.io/api/layers/convolution_layers/convolution2d/)\n",
        "  * With 32 filters and kernel size (3,3) and relu activation\n",
        "2. **Conv2D layer**\n",
        "  * With 64 filters and kernel size (3,3) and relu activation\n",
        "3. [**MaxPooling2D layer**](https://keras.io/api/layers/pooling_layers/max_pooling2d/)\n",
        "  * With pool_size (2,2)\n",
        "4. [**Flatten** ](https://www.tensorflow.org/api_docs/python/tf/keras/layers/Flatten)\n",
        "5. [**Dense**](https://keras.io/api/layers/core_layers/dense/) with 128 neurons and relu activation\n",
        "6. [**Dropout**](https://www.tensorflow.org/api_docs/python/tf/keras/layers/Dropout) (optional)\n",
        "7. Last **Dense** layer with **softmax** activations.\n"
      ]
    },
    {
      "cell_type": "code",
      "metadata": {
        "id": "z1FAlSSAIBTv",
        "colab_type": "code",
        "colab": {}
      },
      "source": [
        "model = Sequential()\n",
        "model.add(Conv2D(32, kernel_size=(3, 3),\n",
        "                 activation='relu',\n",
        "                 input_shape=input_shape))\n",
        "model.add(Conv2D(64, (3, 3), activation='relu'))\n",
        "model.add(MaxPooling2D(pool_size=(2, 2)))\n",
        "model.add(Dropout(0.25))\n",
        "model.add(Flatten())\n",
        "model.add(Dense(128, activation='relu'))\n",
        "model.add(Dropout(0.5))\n",
        "model.add(Dense(num_classes, activation='softmax'))"
      ],
      "execution_count": null,
      "outputs": []
    },
    {
      "cell_type": "markdown",
      "metadata": {
        "id": "9SsPw0qmZBe9",
        "colab_type": "text"
      },
      "source": [
        "### We will **compile** our model by defining loss, optimizer and metrics that we will use to train our network.\n",
        "* loss: [categorical_crossentropy](https://keras.io/api/losses/probabilistic_losses/#categoricalcrossentropy-function)\n",
        "* optimizer: [Adadelta](https://keras.io/api/optimizers/adadelta/)\n",
        "* metrics: [accuracy](https://keras.io/api/metrics/accuracy_metrics/#accuracy-class)"
      ]
    },
    {
      "cell_type": "code",
      "metadata": {
        "id": "Wolqag-DIBYN",
        "colab_type": "code",
        "colab": {}
      },
      "source": [
        "model.compile(loss=keras.losses.categorical_crossentropy,\n",
        "              optimizer=keras.optimizers.Adadelta(),\n",
        "              metrics=['accuracy'])"
      ],
      "execution_count": null,
      "outputs": []
    },
    {
      "cell_type": "code",
      "metadata": {
        "id": "M-i5cxncWiKo",
        "colab_type": "code",
        "colab": {
          "base_uri": "https://localhost:8080/",
          "height": 425
        },
        "outputId": "af33dae9-e7ab-4db6-f54d-c9486f3d4fae"
      },
      "source": [
        "model.summary()"
      ],
      "execution_count": null,
      "outputs": [
        {
          "output_type": "stream",
          "text": [
            "Model: \"sequential_1\"\n",
            "_________________________________________________________________\n",
            "Layer (type)                 Output Shape              Param #   \n",
            "=================================================================\n",
            "conv2d_1 (Conv2D)            (None, 26, 26, 32)        320       \n",
            "_________________________________________________________________\n",
            "conv2d_2 (Conv2D)            (None, 24, 24, 64)        18496     \n",
            "_________________________________________________________________\n",
            "max_pooling2d_1 (MaxPooling2 (None, 12, 12, 64)        0         \n",
            "_________________________________________________________________\n",
            "dropout_1 (Dropout)          (None, 12, 12, 64)        0         \n",
            "_________________________________________________________________\n",
            "flatten_1 (Flatten)          (None, 9216)              0         \n",
            "_________________________________________________________________\n",
            "dense_1 (Dense)              (None, 128)               1179776   \n",
            "_________________________________________________________________\n",
            "dropout_2 (Dropout)          (None, 128)               0         \n",
            "_________________________________________________________________\n",
            "dense_2 (Dense)              (None, 10)                1290      \n",
            "=================================================================\n",
            "Total params: 1,199,882\n",
            "Trainable params: 1,199,882\n",
            "Non-trainable params: 0\n",
            "_________________________________________________________________\n"
          ],
          "name": "stdout"
        }
      ]
    },
    {
      "cell_type": "markdown",
      "metadata": {
        "id": "UT8QUOzeaM9g",
        "colab_type": "text"
      },
      "source": [
        "### Now, let's **train our model** by using the parameters that we defined before."
      ]
    },
    {
      "cell_type": "code",
      "metadata": {
        "id": "7pYF0BnzIa-n",
        "colab_type": "code",
        "colab": {
          "base_uri": "https://localhost:8080/",
          "height": 221
        },
        "outputId": "072c749d-dbfc-4c8d-b5d2-85021c516707"
      },
      "source": [
        "model.fit(x_train, y_train,\n",
        "          batch_size=batch_size,\n",
        "          epochs=epochs,\n",
        "          verbose=1,\n",
        "          validation_data=(x_test, y_test))"
      ],
      "execution_count": null,
      "outputs": [
        {
          "output_type": "stream",
          "text": [
            "Train on 60000 samples, validate on 10000 samples\n",
            "Epoch 1/5\n",
            "60000/60000 [==============================] - 10s 164us/step - loss: 0.2711 - accuracy: 0.9162 - val_loss: 0.0588 - val_accuracy: 0.9811\n",
            "Epoch 2/5\n",
            "60000/60000 [==============================] - 3s 57us/step - loss: 0.0896 - accuracy: 0.9740 - val_loss: 0.0376 - val_accuracy: 0.9883\n",
            "Epoch 3/5\n",
            "60000/60000 [==============================] - 3s 57us/step - loss: 0.0659 - accuracy: 0.9802 - val_loss: 0.0369 - val_accuracy: 0.9877\n",
            "Epoch 4/5\n",
            "60000/60000 [==============================] - 3s 58us/step - loss: 0.0540 - accuracy: 0.9841 - val_loss: 0.0327 - val_accuracy: 0.9890\n",
            "Epoch 5/5\n",
            "60000/60000 [==============================] - 3s 56us/step - loss: 0.0465 - accuracy: 0.9859 - val_loss: 0.0286 - val_accuracy: 0.9904\n"
          ],
          "name": "stdout"
        },
        {
          "output_type": "execute_result",
          "data": {
            "text/plain": [
              "<keras.callbacks.callbacks.History at 0x7f30949f6080>"
            ]
          },
          "metadata": {
            "tags": []
          },
          "execution_count": 12
        }
      ]
    },
    {
      "cell_type": "markdown",
      "metadata": {
        "id": "YhKxXp71aYk6",
        "colab_type": "text"
      },
      "source": [
        "### **Evaluation** of the trained model on validation data"
      ]
    },
    {
      "cell_type": "code",
      "metadata": {
        "id": "XTdR1x4-IbXI",
        "colab_type": "code",
        "colab": {
          "base_uri": "https://localhost:8080/",
          "height": 51
        },
        "outputId": "9b2b8e5d-b224-4beb-f2fa-da889f1f88d8"
      },
      "source": [
        "score = model.evaluate(x_test, y_test, verbose=0)\n",
        "print('Test loss:', score[0])\n",
        "print('Test accuracy:', score[1])"
      ],
      "execution_count": null,
      "outputs": [
        {
          "output_type": "stream",
          "text": [
            "Test loss: 0.028583086468774853\n",
            "Test accuracy: 0.9904000163078308\n"
          ],
          "name": "stdout"
        }
      ]
    },
    {
      "cell_type": "markdown",
      "metadata": {
        "id": "k1rAqQMCasTL",
        "colab_type": "text"
      },
      "source": [
        "### We can **visualize or analyze our model** to see how our predictions looks like. "
      ]
    },
    {
      "cell_type": "code",
      "metadata": {
        "id": "KUG4_UFpNCru",
        "colab_type": "code",
        "colab": {}
      },
      "source": [
        "y_pred = model.predict(x_test)"
      ],
      "execution_count": null,
      "outputs": []
    },
    {
      "cell_type": "code",
      "metadata": {
        "id": "DSZyeiwWOCeC",
        "colab_type": "code",
        "colab": {}
      },
      "source": [
        "y_pred_labels = np.argmax(y_pred, axis = 1)\n",
        "y_test_labels = np.argmax(y_test, axis = 1)"
      ],
      "execution_count": null,
      "outputs": []
    },
    {
      "cell_type": "code",
      "metadata": {
        "id": "3AwLBc8FLvQg",
        "colab_type": "code",
        "colab": {
          "base_uri": "https://localhost:8080/",
          "height": 316
        },
        "outputId": "b7ac008b-b2e4-4eac-86a6-09ff15593c1f"
      },
      "source": [
        "nth_img = 1001\n",
        "print('actual_label: '  + str(y_test_labels[nth_img]))\n",
        "print('predicted_label: '  + str(y_pred_labels[nth_img]))\n",
        "plt.imshow(x_test[nth_img].reshape((28, 28)))"
      ],
      "execution_count": null,
      "outputs": [
        {
          "output_type": "stream",
          "text": [
            "actual_label: 0\n",
            "predicted_label: 0\n"
          ],
          "name": "stdout"
        },
        {
          "output_type": "execute_result",
          "data": {
            "text/plain": [
              "<matplotlib.image.AxesImage at 0x7f3038046358>"
            ]
          },
          "metadata": {
            "tags": []
          },
          "execution_count": 16
        },
        {
          "output_type": "display_data",
          "data": {
            "image/png": "[encoded data removed]",
            "text/plain": [
              "<Figure size 432x288 with 1 Axes>"
            ]
          },
          "metadata": {
            "tags": [],
            "needs_background": "light"
          }
        }
      ]
    },
    {
      "cell_type": "markdown",
      "metadata": {
        "id": "SBPnWEZFP14F",
        "colab_type": "text"
      },
      "source": [
        "### How about we **visualize images that our model predicted incorrectly**.  \n",
        "*   First we have to get the indexes of the images where y_pred and y_test doesn't match\n",
        "*   Then we can visualize them one by one\n",
        "\n"
      ]
    },
    {
      "cell_type": "code",
      "metadata": {
        "id": "BFK8YVnMQTLf",
        "colab_type": "code",
        "colab": {
          "base_uri": "https://localhost:8080/",
          "height": 170
        },
        "outputId": "faaba246-72b2-45ce-9322-1c102c57d440"
      },
      "source": [
        "np.where(y_pred_labels != y_test_labels)"
      ],
      "execution_count": null,
      "outputs": [
        {
          "output_type": "execute_result",
          "data": {
            "text/plain": [
              "(array([ 247,  320,  321,  445,  449,  659,  717,  740,  882,  947, 1014,\n",
              "        1033, 1039, 1112, 1226, 1232, 1242, 1247, 1260, 1319, 1393, 1527,\n",
              "        1530, 1549, 1621, 1681, 1709, 1717, 1878, 1901, 2035, 2040, 2098,\n",
              "        2118, 2130, 2135, 2293, 2369, 2387, 2406, 2462, 2488, 2630, 2654,\n",
              "        2896, 2921, 2927, 2939, 3030, 3060, 3073, 3225, 3384, 3422, 3503,\n",
              "        3520, 3558, 3727, 3767, 3780, 3808, 3941, 4007, 4078, 4176, 4238,\n",
              "        4248, 4256, 4497, 4639, 4731, 4740, 4761, 4807, 4860, 5937, 5955,\n",
              "        6091, 6576, 6597, 6625, 6651, 6783, 8094, 8325, 8527, 9009, 9015,\n",
              "        9019, 9530, 9642, 9664, 9692, 9729, 9770, 9982]),)"
            ]
          },
          "metadata": {
            "tags": []
          },
          "execution_count": 17
        }
      ]
    },
    {
      "cell_type": "code",
      "metadata": {
        "id": "-oJ2q84WPytr",
        "colab_type": "code",
        "colab": {
          "base_uri": "https://localhost:8080/",
          "height": 316
        },
        "outputId": "0fc00fed-4562-4593-d25c-8f7e8c0f950f"
      },
      "source": [
        "nth_img = 321\n",
        "print('actual_label: '  + str(y_test_labels[nth_img]))\n",
        "print('predicted_label: '  + str(y_pred_labels[nth_img]))\n",
        "plt.imshow(x_test[nth_img].reshape((28, 28)))"
      ],
      "execution_count": null,
      "outputs": [
        {
          "output_type": "stream",
          "text": [
            "actual_label: 2\n",
            "predicted_label: 7\n"
          ],
          "name": "stdout"
        },
        {
          "output_type": "execute_result",
          "data": {
            "text/plain": [
              "<matplotlib.image.AxesImage at 0x7f30227e6908>"
            ]
          },
          "metadata": {
            "tags": []
          },
          "execution_count": 18
        },
        {
          "output_type": "display_data",
          "data": {
            "image/png": "[encoded data removed]",
            "text/plain": [
              "<Figure size 432x288 with 1 Axes>"
            ]
          },
          "metadata": {
            "tags": [],
            "needs_background": "light"
          }
        }
      ]
    },
    {
      "cell_type": "markdown",
      "metadata": {
        "id": "umFfvrJ3NY7B",
        "colab_type": "text"
      },
      "source": [
        "***Want to try something more on other small datasets?***\n",
        "*   https://keras.io/api/datasets/  (Contains **CIFAR** and **Fashion MNIST** dataset)\n",
        "\n",
        "\n",
        "\n"
      ]
    }
  ]
}